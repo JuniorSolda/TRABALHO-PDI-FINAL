{
  "nbformat": 4,
  "nbformat_minor": 0,
  "metadata": {
    "colab": {
      "provenance": []
    },
    "kernelspec": {
      "name": "python3",
      "display_name": "Python 3"
    },
    "language_info": {
      "name": "python"
    }
  },
  "cells": [
    {
      "cell_type": "code",
      "execution_count": 1,
      "metadata": {
        "id": "GCrEpNS4JFuT"
      },
      "outputs": [],
      "source": [
        "import cv2\n",
        "from google.colab.patches import cv2_imshow"
      ]
    },
    {
      "cell_type": "code",
      "source": [
        "!git clone https://github.com/JuniorSolda/TRABALHO-PDI-CERTO.git"
      ],
      "metadata": {
        "id": "u9qcOspUJH2g",
        "outputId": "c0d6eeb5-6972-43ff-de28-10badc0272c9",
        "colab": {
          "base_uri": "https://localhost:8080/"
        }
      },
      "execution_count": 2,
      "outputs": [
        {
          "output_type": "stream",
          "name": "stdout",
          "text": [
            "Cloning into 'TRABALHO-PDI-CERTO'...\n",
            "remote: Enumerating objects: 219, done.\u001b[K\n",
            "remote: Counting objects: 100% (17/17), done.\u001b[K\n",
            "remote: Compressing objects: 100% (17/17), done.\u001b[K\n",
            "remote: Total 219 (delta 2), reused 0 (delta 0), pack-reused 202\u001b[K\n",
            "Receiving objects: 100% (219/219), 78.45 MiB | 32.81 MiB/s, done.\n",
            "Resolving deltas: 100% (20/20), done.\n"
          ]
        }
      ]
    },
    {
      "cell_type": "code",
      "source": [
        "import skimage.io\n",
        "import skimage.util"
      ],
      "metadata": {
        "id": "iEHYUlkjJH-p"
      },
      "execution_count": 3,
      "outputs": []
    },
    {
      "cell_type": "code",
      "source": [
        "### BEER ###\n",
        "\n",
        "a = skimage.io.imread('/content/TRABALHO-PDI-CERTO/FOTOS 2/BEER/0-01-V1-B.png')\n",
        "b = skimage.io.imread('/content/TRABALHO-PDI-CERTO/FOTOS 2/BEER/0-01-V1-W.png')\n",
        "c = skimage.io.imread('/content/TRABALHO-PDI-CERTO/FOTOS 2/BEER/0-01-V2-B.png')\n",
        "d = skimage.io.imread('/content/TRABALHO-PDI-CERTO/FOTOS 2/BEER/0-01-V2-W.png')\n",
        "e = skimage.io.imread('/content/TRABALHO-PDI-CERTO/FOTOS 2/BEER/0-02-V1-W.png')\n",
        "\n",
        "m = skimage.util.montage([a, b, c, d, e], multichannel=True)\n",
        "n = cv2.cvtColor(m, cv2.COLOR_BGR2RGB)\n",
        "cv2_imshow(n)"
      ],
      "metadata": {
        "id": "Yp_vUdkzJIBW"
      },
      "execution_count": null,
      "outputs": []
    },
    {
      "cell_type": "code",
      "source": [
        "### CAROT ###\n",
        "\n",
        "a = skimage.io.imread('/content/TRABALHO-PDI-CERTO/FOTOS 2/CAROT/1-01-V1-B.png')\n",
        "b = skimage.io.imread('/content/TRABALHO-PDI-CERTO/FOTOS 2/CAROT/1-01-V1-W.png')\n",
        "c = skimage.io.imread('/content/TRABALHO-PDI-CERTO/FOTOS 2/CAROT/1-01-V2-B.png')\n",
        "d = skimage.io.imread('/content/TRABALHO-PDI-CERTO/FOTOS 2/CAROT/1-01-V2-W.png')\n",
        "e = skimage.io.imread('/content/TRABALHO-PDI-CERTO/FOTOS 2/CAROT/1-02-V1-W.png')\n",
        "\n",
        "m = skimage.util.montage([a, b, c, d, e], multichannel=True)\n",
        "n = cv2.cvtColor(m, cv2.COLOR_BGR2RGB)\n",
        "cv2_imshow(n)"
      ],
      "metadata": {
        "id": "VfT8roUqJIJD"
      },
      "execution_count": null,
      "outputs": []
    },
    {
      "cell_type": "code",
      "source": [
        "### CORN_CAN ###\n",
        "\n",
        "a = skimage.io.imread('/content/TRABALHO-PDI-CERTO/FOTOS 2/CORN_CAN/2-01-V1-B.png')\n",
        "b = skimage.io.imread('/content/TRABALHO-PDI-CERTO/FOTOS 2/CORN_CAN/2-01-V1-W.png')\n",
        "c = skimage.io.imread('/content/TRABALHO-PDI-CERTO/FOTOS 2/CORN_CAN/2-01-V2-B.png')\n",
        "d = skimage.io.imread('/content/TRABALHO-PDI-CERTO/FOTOS 2/CORN_CAN/2-01-V2-W.png')\n",
        "e = skimage.io.imread('/content/TRABALHO-PDI-CERTO/FOTOS 2/CORN_CAN/2-02-V1-W.png')\n",
        "\n",
        "m = skimage.util.montage([a, b, c, d, e], multichannel=True)\n",
        "n = cv2.cvtColor(m, cv2.COLOR_BGR2RGB)\n",
        "cv2_imshow(n)"
      ],
      "metadata": {
        "id": "KiAfhTacJILH"
      },
      "execution_count": null,
      "outputs": []
    },
    {
      "cell_type": "code",
      "source": [
        "### EGG ###\n",
        "\n",
        "a = skimage.io.imread('/content/TRABALHO-PDI-CERTO/FOTOS 2/EGG/3-01-V1-B.png')\n",
        "b = skimage.io.imread('/content/TRABALHO-PDI-CERTO/FOTOS 2/EGG/3-01-V1-W.png')\n",
        "c = skimage.io.imread('/content/TRABALHO-PDI-CERTO/FOTOS 2/EGG/3-01-V2-B.png')\n",
        "d = skimage.io.imread('/content/TRABALHO-PDI-CERTO/FOTOS 2/EGG/3-01-V2-W.png')\n",
        "e = skimage.io.imread('/content/TRABALHO-PDI-CERTO/FOTOS 2/EGG/3-02-V1-W.png')\n",
        "\n",
        "m = skimage.util.montage([a, b, c, d, e], multichannel=True)\n",
        "n = cv2.cvtColor(m, cv2.COLOR_BGR2RGB)\n",
        "cv2_imshow(n)"
      ],
      "metadata": {
        "id": "R5EQ_ECCJIP0"
      },
      "execution_count": null,
      "outputs": []
    },
    {
      "cell_type": "code",
      "source": [
        "### MARGARINE ###\n",
        "\n",
        "a = skimage.io.imread('/content/TRABALHO-PDI-CERTO/FOTOS 2/MARGARINE/4-01-V1-B.png')\n",
        "b = skimage.io.imread('/content/TRABALHO-PDI-CERTO/FOTOS 2/MARGARINE/4-01-V1-W.png')\n",
        "c = skimage.io.imread('/content/TRABALHO-PDI-CERTO/FOTOS 2/MARGARINE/4-01-V2-B.png')\n",
        "d = skimage.io.imread('/content/TRABALHO-PDI-CERTO/FOTOS 2/MARGARINE/4-01-V2-W.png')\n",
        "e = skimage.io.imread('/content/TRABALHO-PDI-CERTO/FOTOS 2/MARGARINE/4-02-V1-W.png')\n",
        "\n",
        "m = skimage.util.montage([a, b, c, d, e], multichannel=True)\n",
        "n = cv2.cvtColor(m, cv2.COLOR_BGR2RGB)\n",
        "cv2_imshow(n)"
      ],
      "metadata": {
        "id": "ccshRBmfJISO"
      },
      "execution_count": null,
      "outputs": []
    },
    {
      "cell_type": "code",
      "source": [
        "### MAYONNAISE ###\n",
        "\n",
        "a = skimage.io.imread('/content/TRABALHO-PDI-CERTO/FOTOS 2/MAYONNAISE/5-01-V1-B.png')\n",
        "b = skimage.io.imread('/content/TRABALHO-PDI-CERTO/FOTOS 2/MAYONNAISE/5-01-V1-W.png')\n",
        "c = skimage.io.imread('/content/TRABALHO-PDI-CERTO/FOTOS 2/MAYONNAISE/5-01-V2-B.png')\n",
        "d = skimage.io.imread('/content/TRABALHO-PDI-CERTO/FOTOS 2/MAYONNAISE/5-01-V2-W.png')\n",
        "e = skimage.io.imread('/content/TRABALHO-PDI-CERTO/FOTOS 2/MAYONNAISE/5-02-V1-W.png')\n",
        "\n",
        "m = skimage.util.montage([a, b, c, d, e], multichannel=True)\n",
        "n = cv2.cvtColor(m, cv2.COLOR_BGR2RGB)\n",
        "cv2_imshow(n)"
      ],
      "metadata": {
        "id": "k8DxIq5jJIUl"
      },
      "execution_count": null,
      "outputs": []
    },
    {
      "cell_type": "code",
      "source": [
        "### MILK ###\n",
        "\n",
        "a = skimage.io.imread('/content/TRABALHO-PDI-CERTO/FOTOS 2/MILK/6-01-V1-B.png')\n",
        "b = skimage.io.imread('/content/TRABALHO-PDI-CERTO/FOTOS 2/MILK/6-01-V1-W.png')\n",
        "c = skimage.io.imread('/content/TRABALHO-PDI-CERTO/FOTOS 2/MILK/6-01-V2-B.png')\n",
        "d = skimage.io.imread('/content/TRABALHO-PDI-CERTO/FOTOS 2/MILK/6-01-V2-W.png')\n",
        "e = skimage.io.imread('/content/TRABALHO-PDI-CERTO/FOTOS 2/MILK/6-02-V1-W.png')\n",
        "\n",
        "m = skimage.util.montage([a, b, c, d, e], multichannel=True)\n",
        "n = cv2.cvtColor(m, cv2.COLOR_BGR2RGB)\n",
        "cv2_imshow(n)"
      ],
      "metadata": {
        "id": "QovEeYROJIXK"
      },
      "execution_count": null,
      "outputs": []
    },
    {
      "cell_type": "code",
      "source": [
        "### ONION ###\n",
        "\n",
        "a = skimage.io.imread('/content/TRABALHO-PDI-CERTO/FOTOS 2/ONION/7-01-V1-B.png')\n",
        "b = skimage.io.imread('/content/TRABALHO-PDI-CERTO/FOTOS 2/ONION/7-01-V1-W.png')\n",
        "c = skimage.io.imread('/content/TRABALHO-PDI-CERTO/FOTOS 2/ONION/7-01-V2-B.png')\n",
        "d = skimage.io.imread('/content/TRABALHO-PDI-CERTO/FOTOS 2/ONION/7-01-V2-W.png')\n",
        "e = skimage.io.imread('/content/TRABALHO-PDI-CERTO/FOTOS 2/ONION/7-02-V1-W.png')\n",
        "\n",
        "m = skimage.util.montage([a, b, c, d, e], multichannel=True)\n",
        "n = cv2.cvtColor(m, cv2.COLOR_BGR2RGB)\n",
        "cv2_imshow(n)"
      ],
      "metadata": {
        "id": "ynwZpEU8JJwQ"
      },
      "execution_count": null,
      "outputs": []
    },
    {
      "cell_type": "code",
      "source": [
        "### TOMATO_SAUCE ###\n",
        "\n",
        "a = skimage.io.imread('/content/TRABALHO-PDI-CERTO/FOTOS 2/TOMATO_SAUCE/8-01-V1-B.png')\n",
        "b = skimage.io.imread('/content/TRABALHO-PDI-CERTO/FOTOS 2/TOMATO_SAUCE/8-01-V1-W.png')\n",
        "c = skimage.io.imread('/content/TRABALHO-PDI-CERTO/FOTOS 2/TOMATO_SAUCE/8-01-V2-B.png')\n",
        "d = skimage.io.imread('/content/TRABALHO-PDI-CERTO/FOTOS 2/TOMATO_SAUCE/8-01-V2-W.png')\n",
        "e = skimage.io.imread('/content/TRABALHO-PDI-CERTO/FOTOS 2/TOMATO_SAUCE/8-02-V1-W.png')\n",
        "\n",
        "m = skimage.util.montage([a, b, c, d, e], multichannel=True)\n",
        "n = cv2.cvtColor(m, cv2.COLOR_BGR2RGB)\n",
        "cv2_imshow(n)"
      ],
      "metadata": {
        "id": "hwRlSDVaJJ1Z"
      },
      "execution_count": null,
      "outputs": []
    },
    {
      "cell_type": "code",
      "source": [
        "### WINE ###\n",
        "\n",
        "a = skimage.io.imread('/content/TRABALHO-PDI-CERTO/FOTOS 2/WINE/9-01-V1-B.png')\n",
        "b = skimage.io.imread('/content/TRABALHO-PDI-CERTO/FOTOS 2/WINE/9-01-V1-W.png')\n",
        "c = skimage.io.imread('/content/TRABALHO-PDI-CERTO/FOTOS 2/WINE/9-01-V2-B.png')\n",
        "d = skimage.io.imread('/content/TRABALHO-PDI-CERTO/FOTOS 2/WINE/9-01-V2-W.png')\n",
        "e = skimage.io.imread('/content/TRABALHO-PDI-CERTO/FOTOS 2/WINE/9-02-V1-W.png')\n",
        "\n",
        "m = skimage.util.montage([a, b, c, d, e], multichannel=True)\n",
        "n = cv2.cvtColor(m, cv2.COLOR_BGR2RGB)\n",
        "cv2_imshow(n)"
      ],
      "metadata": {
        "id": "lFtL726FJJ5e"
      },
      "execution_count": null,
      "outputs": []
    },
    {
      "cell_type": "markdown",
      "source": [
        "METADADOS:"
      ],
      "metadata": {
        "id": "6Hr8YzncJgm4"
      }
    },
    {
      "cell_type": "code",
      "source": [
        "### METADADOS ###\n",
        "\n",
        "class Arquivo():\n",
        "  _path :str\n",
        "  def __init__(self,path):\n",
        "    self._path = path\n",
        "  def conteudo(self):\n",
        "    with(open(self._path,'r',encoding='utf-8')) as arq:\n",
        "      for item in arq:\n",
        "        print(item)"
      ],
      "metadata": {
        "id": "wUZRjLhVJJ96"
      },
      "execution_count": 15,
      "outputs": []
    },
    {
      "cell_type": "code",
      "source": [
        "arquivo = Arquivo('/content/TRABALHO-PDI-CERTO/METADADOS.txt')"
      ],
      "metadata": {
        "id": "VD9j_s4sJkNr"
      },
      "execution_count": 16,
      "outputs": []
    },
    {
      "cell_type": "code",
      "source": [
        "arquivo.conteudo()"
      ],
      "metadata": {
        "colab": {
          "base_uri": "https://localhost:8080/"
        },
        "id": "eAiXoLbWJkDj",
        "outputId": "6b2ca0f2-5308-41ab-a9ac-129e00e4f7fb"
      },
      "execution_count": 17,
      "outputs": [
        {
          "output_type": "stream",
          "name": "stdout",
          "text": [
            "### BEER ###\n",
            "\n",
            "\n",
            "\n",
            "dimensão: 737x1600 \n",
            "\n",
            "formato: PNG\n",
            "\n",
            "resolução: 737x1600\n",
            "\n",
            "nome do arquivo: 0-01-V1-B/ 0-01-V1-W/ 0-01-V2-B/ 0-01-V2-W/ 0-02-V1-W\n",
            "\n",
            "como estão codificadas as classses: de 0 a 9\n",
            "\n",
            "dispositivo de captura: Smartphone Redmi note 8\n",
            "\n",
            "\n",
            "\n",
            "\n",
            "\n",
            "### CAROT ###\n",
            "\n",
            "\n",
            "\n",
            "dimensão: 737x1600 \n",
            "\n",
            "formato: PNG\n",
            "\n",
            "resolução: 737x1600\n",
            "\n",
            "nome do arquivo: 1-01-V1-B/ 1-01-V1-W/ 1-01-V2-B/ 1-01-V2-W/ 1-02-V1-W\n",
            "\n",
            "como estão codificadas as classses: de 0 a 9 \n",
            "\n",
            "dispositivo de captura: Smartphone Redmi note 8\n",
            "\n",
            "\n",
            "\n",
            "\n",
            "\n",
            "### CORN_CAN ###\n",
            "\n",
            "\n",
            "\n",
            "dimensão: 737x1600 \n",
            "\n",
            "formato: PNG\n",
            "\n",
            "resolução: 737x1600\n",
            "\n",
            "nome do arquivo: 2-01-V1-B/ 2-01-V1-W/ 2-01-V2-B/ 2-01-V2-W/ 2-02-V1-W\n",
            "\n",
            "como estão codificadas as classses: de 0 a 9 \n",
            "\n",
            "dispositivo de captura: Smartphone Redmi note 8\n",
            "\n",
            "\n",
            "\n",
            "\n",
            "\n",
            "### EGG ###\n",
            "\n",
            "\n",
            "\n",
            "dimensão: 737x1600 \n",
            "\n",
            "formato: PNG\n",
            "\n",
            "resolução: 737x1600\n",
            "\n",
            "nome do arquivo: 3-01-V1-B/ 3-01-V1-W/ 3-01-V2-B/ 3-01-V2-W/ 3-02-V1-W\n",
            "\n",
            "como estão codificadas as classses: de 0 a 9 \n",
            "\n",
            "dispositivo de captura: Smartphone Redmi note 8\n",
            "\n",
            "\n",
            "\n",
            "\n",
            "\n",
            "### MARGARINE ###\n",
            "\n",
            "\n",
            "\n",
            "dimensão: 737x1600 \n",
            "\n",
            "formato: PNG\n",
            "\n",
            "resolução: 737x1600\n",
            "\n",
            "nome do arquivo: 4-01-V1-B/ 4-01-V1-W/ 4-01-V2-B/ 4-01-V2-W/ 4-02-V1-W\n",
            "\n",
            "como estão codificadas as classses: de 0 a 9 \n",
            "\n",
            "dispositivo de captura: Smartphone Redmi note 8\n",
            "\n",
            "\n",
            "\n",
            "\n",
            "\n",
            "### MAYONNAISE ###\n",
            "\n",
            "\n",
            "\n",
            "dimensão: 737x1600 \n",
            "\n",
            "formato: PNG\n",
            "\n",
            "resolução: 737x1600\n",
            "\n",
            "nome do arquivo: 5-01-V1-B/ 5-01-V1-W/ 5-01-V2-B/ 5-01-V2-W/ 5-02-V1-W\n",
            "\n",
            "como estão codificadas as classses: de 0 a 9 \n",
            "\n",
            "dispositivo de captura: Smartphone Redmi note 8\n",
            "\n",
            "\n",
            "\n",
            "\n",
            "\n",
            "### MILK ###\n",
            "\n",
            "\n",
            "\n",
            "dimensão: 737x1600 \n",
            "\n",
            "formato: PNG\n",
            "\n",
            "resolução: 737x1600\n",
            "\n",
            "nome do arquivo: 6-01-V1-B/ 6-01-V1-W/ 6-01-V2-B/ 6-01-V2-W/ 6-02-V1-W\n",
            "\n",
            "como estão codificadas as classses: \n",
            "\n",
            "dispositivo de captura: Smartphone Redmi note 8\n",
            "\n",
            "\n",
            "\n",
            "\n",
            "\n",
            "### ONION ###\n",
            "\n",
            "\n",
            "\n",
            "dimensão: 737x1600 \n",
            "\n",
            "formato: PNG\n",
            "\n",
            "resolução: 737x1600\n",
            "\n",
            "nome do arquivo: 7-01-V1-B/ 7-01-V1-W/ 7-01-V2-B/ 7-01-V2-W/ 7-02-V1-W\n",
            "\n",
            "como estão codificadas as classses: de 0 a 9 \n",
            "\n",
            "dispositivo de captura: Smartphone Redmi note 8\n",
            "\n",
            "\n",
            "\n",
            "\n",
            "\n",
            "### TOMATO_SAUCE ###\n",
            "\n",
            "\n",
            "\n",
            "dimensão: 737x1600 \n",
            "\n",
            "formato: PNG\n",
            "\n",
            "resolução: 737x1600\n",
            "\n",
            "nome do arquivo: 8-01-V1-B/ 8-01-V1-W/ 8-01-V2-B/ 8-01-V2-W/ 8-02-V1-W\n",
            "\n",
            "como estão codificadas as classses: de 0 a 9 \n",
            "\n",
            "dispositivo de captura: Smartphone Redmi note 8\n",
            "\n",
            "\n",
            "\n",
            "\n",
            "\n",
            "### WINE ###\n",
            "\n",
            "\n",
            "\n",
            "dimensão: 737x1600 \n",
            "\n",
            "formato: PNG\n",
            "\n",
            "resolução: 737x1600\n",
            "\n",
            "nome do arquivo: 9-01-V1-B/ 9-01-V1-W/ 9-01-V2-B/ 9-01-V2-W/ 9-02-V1-W\n",
            "\n",
            "como estão codificadas as classses: de 0 a 9 \n",
            "\n",
            "dispositivo de captura: Smartphone Redmi note 8\n"
          ]
        }
      ]
    }
  ]
}